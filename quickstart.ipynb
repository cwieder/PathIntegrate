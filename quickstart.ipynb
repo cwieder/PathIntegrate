{
 "cells": [
  {
   "cell_type": "markdown",
   "metadata": {},
   "source": [
    "# PathIntegrate Quickstart guide"
   ]
  },
  {
   "cell_type": "code",
   "execution_count": 1,
   "metadata": {},
   "outputs": [
    {
     "name": "stdout",
     "output_type": "stream",
     "text": [
      "Processing d:\\pathintegrate\n",
      "  Preparing metadata (setup.py): started\n",
      "  Preparing metadata (setup.py): finished with status 'done'\n",
      "Requirement already satisfied: pandas in c:\\users\\cw2019\\.conda\\envs\\py10\\lib\\site-packages (from PathIntegrate==0.0.1) (1.5.3)\n",
      "Requirement already satisfied: scikit-learn in c:\\users\\cw2019\\.conda\\envs\\py10\\lib\\site-packages (from PathIntegrate==0.0.1) (1.1.1)\n",
      "Requirement already satisfied: numpy in c:\\users\\cw2019\\.conda\\envs\\py10\\lib\\site-packages (from PathIntegrate==0.0.1) (1.25.2)\n",
      "Requirement already satisfied: setuptools in c:\\users\\cw2019\\.conda\\envs\\py10\\lib\\site-packages (from PathIntegrate==0.0.1) (65.5.0)\n",
      "Requirement already satisfied: scipy in c:\\users\\cw2019\\.conda\\envs\\py10\\lib\\site-packages (from PathIntegrate==0.0.1) (1.11.1)\n",
      "Requirement already satisfied: statsmodels in c:\\users\\cw2019\\.conda\\envs\\py10\\lib\\site-packages (from PathIntegrate==0.0.1) (0.13.2)\n",
      "Requirement already satisfied: sspa in c:\\users\\cw2019\\.conda\\envs\\py10\\lib\\site-packages (from PathIntegrate==0.0.1) (1.0.0)\n",
      "Requirement already satisfied: python-dateutil>=2.8.1 in c:\\users\\cw2019\\.conda\\envs\\py10\\lib\\site-packages (from pandas->PathIntegrate==0.0.1) (2.8.2)\n",
      "Requirement already satisfied: pytz>=2020.1 in c:\\users\\cw2019\\.conda\\envs\\py10\\lib\\site-packages (from pandas->PathIntegrate==0.0.1) (2023.3)\n",
      "Requirement already satisfied: joblib>=1.0.0 in c:\\users\\cw2019\\.conda\\envs\\py10\\lib\\site-packages (from scikit-learn->PathIntegrate==0.0.1) (1.3.0)\n",
      "Requirement already satisfied: threadpoolctl>=2.0.0 in c:\\users\\cw2019\\.conda\\envs\\py10\\lib\\site-packages (from scikit-learn->PathIntegrate==0.0.1) (3.1.0)\n",
      "Requirement already satisfied: requests in c:\\users\\cw2019\\.conda\\envs\\py10\\lib\\site-packages (from sspa->PathIntegrate==0.0.1) (2.31.0)\n",
      "Requirement already satisfied: gseapy in c:\\users\\cw2019\\.conda\\envs\\py10\\lib\\site-packages (from sspa->PathIntegrate==0.0.1) (1.0.5)\n",
      "Requirement already satisfied: patsy>=0.5.2 in c:\\users\\cw2019\\.conda\\envs\\py10\\lib\\site-packages (from statsmodels->PathIntegrate==0.0.1) (0.5.2)\n",
      "Requirement already satisfied: packaging>=21.3 in c:\\users\\cw2019\\.conda\\envs\\py10\\lib\\site-packages (from statsmodels->PathIntegrate==0.0.1) (21.3)\n",
      "Requirement already satisfied: pyparsing!=3.0.5,>=2.0.2 in c:\\users\\cw2019\\.conda\\envs\\py10\\lib\\site-packages (from packaging>=21.3->statsmodels->PathIntegrate==0.0.1) (3.0.9)\n",
      "Requirement already satisfied: six in c:\\users\\cw2019\\.conda\\envs\\py10\\lib\\site-packages (from patsy>=0.5.2->statsmodels->PathIntegrate==0.0.1) (1.16.0)\n",
      "Requirement already satisfied: matplotlib>=2.2 in c:\\users\\cw2019\\.conda\\envs\\py10\\lib\\site-packages (from gseapy->sspa->PathIntegrate==0.0.1) (3.5.2)\n",
      "Requirement already satisfied: charset-normalizer<4,>=2 in c:\\users\\cw2019\\.conda\\envs\\py10\\lib\\site-packages (from requests->sspa->PathIntegrate==0.0.1) (2.0.12)\n",
      "Requirement already satisfied: idna<4,>=2.5 in c:\\users\\cw2019\\.conda\\envs\\py10\\lib\\site-packages (from requests->sspa->PathIntegrate==0.0.1) (3.4)\n",
      "Requirement already satisfied: urllib3<3,>=1.21.1 in c:\\users\\cw2019\\.conda\\envs\\py10\\lib\\site-packages (from requests->sspa->PathIntegrate==0.0.1) (2.0.3)\n",
      "Requirement already satisfied: certifi>=2017.4.17 in c:\\users\\cw2019\\.conda\\envs\\py10\\lib\\site-packages (from requests->sspa->PathIntegrate==0.0.1) (2023.7.22)\n",
      "Requirement already satisfied: cycler>=0.10 in c:\\users\\cw2019\\.conda\\envs\\py10\\lib\\site-packages (from matplotlib>=2.2->gseapy->sspa->PathIntegrate==0.0.1) (0.11.0)\n",
      "Requirement already satisfied: fonttools>=4.22.0 in c:\\users\\cw2019\\.conda\\envs\\py10\\lib\\site-packages (from matplotlib>=2.2->gseapy->sspa->PathIntegrate==0.0.1) (4.40.0)\n",
      "Requirement already satisfied: kiwisolver>=1.0.1 in c:\\users\\cw2019\\.conda\\envs\\py10\\lib\\site-packages (from matplotlib>=2.2->gseapy->sspa->PathIntegrate==0.0.1) (1.4.4)\n",
      "Requirement already satisfied: pillow>=6.2.0 in c:\\users\\cw2019\\.conda\\envs\\py10\\lib\\site-packages (from matplotlib>=2.2->gseapy->sspa->PathIntegrate==0.0.1) (10.0.0)\n",
      "Building wheels for collected packages: PathIntegrate\n",
      "  Building wheel for PathIntegrate (setup.py): started\n",
      "  Building wheel for PathIntegrate (setup.py): finished with status 'done'\n",
      "  Created wheel for PathIntegrate: filename=PathIntegrate-0.0.1-py3-none-any.whl size=1684028 sha256=6b9ebea8712a3de3223630e9d68c76e3a02317792cddc7c3b07f759c6b8d9684\n",
      "  Stored in directory: C:\\Users\\cw2019\\AppData\\Local\\Temp\\pip-ephem-wheel-cache-yol4v4zd\\wheels\\19\\06\\21\\168b38d63ac116bfe0858f6efae800868c63fe9fec9cc2fffc\n",
      "Successfully built PathIntegrate\n",
      "Installing collected packages: PathIntegrate\n",
      "  Attempting uninstall: PathIntegrate\n",
      "    Found existing installation: PathIntegrate 0.0.1\n",
      "    Uninstalling PathIntegrate-0.0.1:\n",
      "      Successfully uninstalled PathIntegrate-0.0.1\n",
      "Successfully installed PathIntegrate-0.0.1\n"
     ]
    },
    {
     "name": "stderr",
     "output_type": "stream",
     "text": [
      "WARNING: Ignoring invalid distribution -illow (c:\\users\\cw2019\\.conda\\envs\\py10\\lib\\site-packages)\n",
      "WARNING: Ignoring invalid distribution -illow (c:\\users\\cw2019\\.conda\\envs\\py10\\lib\\site-packages)\n",
      "\n",
      "[notice] A new release of pip is available: 23.1.2 -> 23.2.1\n",
      "[notice] To update, run: python.exe -m pip install --upgrade pip\n"
     ]
    }
   ],
   "source": [
    "!pip install ."
   ]
  },
  {
   "cell_type": "code",
   "execution_count": 2,
   "metadata": {},
   "outputs": [
    {
     "name": "stderr",
     "output_type": "stream",
     "text": [
      "c:\\Users\\cw2019\\.conda\\envs\\py10\\lib\\site-packages\\numpy\\_distributor_init.py:30: UserWarning: loaded more than 1 DLL from .libs:\n",
      "c:\\Users\\cw2019\\.conda\\envs\\py10\\lib\\site-packages\\numpy\\.libs\\libopenblas.EL2C6PLE4ZYW3ECEVIV3OXXGRN2NRFM2.gfortran-win_amd64.dll\n",
      "c:\\Users\\cw2019\\.conda\\envs\\py10\\lib\\site-packages\\numpy\\.libs\\libopenblas64__v0.3.23-246-g3d31191b-gcc_10_3_0.dll\n",
      "  warnings.warn(\"loaded more than 1 DLL from .libs:\"\n"
     ]
    }
   ],
   "source": [
    "import pandas as pd\n",
    "import numpy as np\n",
    "import pathintegrate\n",
    "import sspa"
   ]
  },
  {
   "cell_type": "markdown",
   "metadata": {},
   "source": [
    "Load multi-omics datasets and metadata"
   ]
  },
  {
   "cell_type": "code",
   "execution_count": 4,
   "metadata": {},
   "outputs": [],
   "source": [
    "metab = pd.read_csv('D:\\PathIntegrate\\src\\pathintegrate\\data\\metabolomics_example.csv', index_col=0)\n",
    "prot = pd.read_csv('D:\\PathIntegrate\\src\\pathintegrate\\data\\proteomics_example.csv', index_col=0)"
   ]
  },
  {
   "cell_type": "markdown",
   "metadata": {},
   "source": [
    "Load or download lastest Reactome multi-omics pathways"
   ]
  },
  {
   "cell_type": "code",
   "execution_count": 5,
   "metadata": {},
   "outputs": [],
   "source": [
    "mo_paths = sspa.process_gmt(infile='D:\\PathIntegrate\\src\\pathintegrate\\data\\Reactome_Homo_sapiens_pathways_multiomics_R85.gmt')"
   ]
  },
  {
   "cell_type": "markdown",
   "metadata": {},
   "source": [
    "Initiate a PathIntegrate object"
   ]
  },
  {
   "cell_type": "code",
   "execution_count": 6,
   "metadata": {},
   "outputs": [],
   "source": [
    "pi_model = pathintegrate.PathIntegrate(\n",
    "    omics_data={'Metabolomics': metab, 'Proteomics':prot.iloc[:, :-1]}, \n",
    "    metadata=prot['Group'], \n",
    "    pathway_source=mo_paths, \n",
    "    sspa_scoring=sspa.sspa_SVD, \n",
    "    min_coverage=2)"
   ]
  },
  {
   "cell_type": "markdown",
   "metadata": {},
   "source": [
    "### Fit a PathIntegrate Multi-View model"
   ]
  },
  {
   "cell_type": "code",
   "execution_count": 7,
   "metadata": {},
   "outputs": [
    {
     "name": "stdout",
     "output_type": "stream",
     "text": [
      "Generating pathway scores...\n",
      "Fitting MultiView model\n"
     ]
    }
   ],
   "source": [
    "covid_multi_view = pi_model.MultiView(ncomp=5)"
   ]
  },
  {
   "cell_type": "markdown",
   "metadata": {},
   "source": [
    "Visualise omics block importance"
   ]
  },
  {
   "cell_type": "code",
   "execution_count": 8,
   "metadata": {},
   "outputs": [
    {
     "ename": "AttributeError",
     "evalue": "module 'pathintegrate' has no attribute 'plot_functs'",
     "output_type": "error",
     "traceback": [
      "\u001b[1;31m---------------------------------------------------------------------------\u001b[0m",
      "\u001b[1;31mAttributeError\u001b[0m                            Traceback (most recent call last)",
      "\u001b[1;32md:\\PathIntegrate\\quickstart.ipynb Cell 13\u001b[0m in \u001b[0;36m1\n\u001b[1;32m----> <a href='vscode-notebook-cell:/d%3A/PathIntegrate/quickstart.ipynb#X16sZmlsZQ%3D%3D?line=0'>1</a>\u001b[0m pathintegrate\u001b[39m.\u001b[39;49mplot_functs\u001b[39m.\u001b[39mplot_block_importance(covid_multi_view)\n",
      "\u001b[1;31mAttributeError\u001b[0m: module 'pathintegrate' has no attribute 'plot_functs'"
     ]
    }
   ],
   "source": [
    "pathintegrate.plot_functs.plot_block_importance(covid_multi_view)"
   ]
  },
  {
   "cell_type": "markdown",
   "metadata": {},
   "source": [
    "### Fit a PathIntegrate Single-View model"
   ]
  },
  {
   "cell_type": "code",
   "execution_count": 9,
   "metadata": {},
   "outputs": [
    {
     "name": "stdout",
     "output_type": "stream",
     "text": [
      "Generating pathway scores...\n",
      "Fitting SingleView model\n"
     ]
    }
   ],
   "source": [
    "covid_single_view = pi_model.SingleView(model_params={'random_state':0, 'max_iter':1000})"
   ]
  },
  {
   "cell_type": "code",
   "execution_count": 10,
   "metadata": {},
   "outputs": [
    {
     "data": {
      "text/html": [
       "<style>#sk-container-id-1 {color: black;}#sk-container-id-1 pre{padding: 0;}#sk-container-id-1 div.sk-toggleable {background-color: white;}#sk-container-id-1 label.sk-toggleable__label {cursor: pointer;display: block;width: 100%;margin-bottom: 0;padding: 0.3em;box-sizing: border-box;text-align: center;}#sk-container-id-1 label.sk-toggleable__label-arrow:before {content: \"▸\";float: left;margin-right: 0.25em;color: #696969;}#sk-container-id-1 label.sk-toggleable__label-arrow:hover:before {color: black;}#sk-container-id-1 div.sk-estimator:hover label.sk-toggleable__label-arrow:before {color: black;}#sk-container-id-1 div.sk-toggleable__content {max-height: 0;max-width: 0;overflow: hidden;text-align: left;background-color: #f0f8ff;}#sk-container-id-1 div.sk-toggleable__content pre {margin: 0.2em;color: black;border-radius: 0.25em;background-color: #f0f8ff;}#sk-container-id-1 input.sk-toggleable__control:checked~div.sk-toggleable__content {max-height: 200px;max-width: 100%;overflow: auto;}#sk-container-id-1 input.sk-toggleable__control:checked~label.sk-toggleable__label-arrow:before {content: \"▾\";}#sk-container-id-1 div.sk-estimator input.sk-toggleable__control:checked~label.sk-toggleable__label {background-color: #d4ebff;}#sk-container-id-1 div.sk-label input.sk-toggleable__control:checked~label.sk-toggleable__label {background-color: #d4ebff;}#sk-container-id-1 input.sk-hidden--visually {border: 0;clip: rect(1px 1px 1px 1px);clip: rect(1px, 1px, 1px, 1px);height: 1px;margin: -1px;overflow: hidden;padding: 0;position: absolute;width: 1px;}#sk-container-id-1 div.sk-estimator {font-family: monospace;background-color: #f0f8ff;border: 1px dotted black;border-radius: 0.25em;box-sizing: border-box;margin-bottom: 0.5em;}#sk-container-id-1 div.sk-estimator:hover {background-color: #d4ebff;}#sk-container-id-1 div.sk-parallel-item::after {content: \"\";width: 100%;border-bottom: 1px solid gray;flex-grow: 1;}#sk-container-id-1 div.sk-label:hover label.sk-toggleable__label {background-color: #d4ebff;}#sk-container-id-1 div.sk-serial::before {content: \"\";position: absolute;border-left: 1px solid gray;box-sizing: border-box;top: 0;bottom: 0;left: 50%;z-index: 0;}#sk-container-id-1 div.sk-serial {display: flex;flex-direction: column;align-items: center;background-color: white;padding-right: 0.2em;padding-left: 0.2em;position: relative;}#sk-container-id-1 div.sk-item {position: relative;z-index: 1;}#sk-container-id-1 div.sk-parallel {display: flex;align-items: stretch;justify-content: center;background-color: white;position: relative;}#sk-container-id-1 div.sk-item::before, #sk-container-id-1 div.sk-parallel-item::before {content: \"\";position: absolute;border-left: 1px solid gray;box-sizing: border-box;top: 0;bottom: 0;left: 50%;z-index: -1;}#sk-container-id-1 div.sk-parallel-item {display: flex;flex-direction: column;z-index: 1;position: relative;background-color: white;}#sk-container-id-1 div.sk-parallel-item:first-child::after {align-self: flex-end;width: 50%;}#sk-container-id-1 div.sk-parallel-item:last-child::after {align-self: flex-start;width: 50%;}#sk-container-id-1 div.sk-parallel-item:only-child::after {width: 0;}#sk-container-id-1 div.sk-dashed-wrapped {border: 1px dashed gray;margin: 0 0.4em 0.5em 0.4em;box-sizing: border-box;padding-bottom: 0.4em;background-color: white;}#sk-container-id-1 div.sk-label label {font-family: monospace;font-weight: bold;display: inline-block;line-height: 1.2em;}#sk-container-id-1 div.sk-label-container {text-align: center;}#sk-container-id-1 div.sk-container {/* jupyter's `normalize.less` sets `[hidden] { display: none; }` but bootstrap.min.css set `[hidden] { display: none !important; }` so we also need the `!important` here to be able to override the default hidden behavior on the sphinx rendered scikit-learn.org. See: https://github.com/scikit-learn/scikit-learn/issues/21755 */display: inline-block !important;position: relative;}#sk-container-id-1 div.sk-text-repr-fallback {display: none;}</style><div id=\"sk-container-id-1\" class=\"sk-top-container\"><div class=\"sk-text-repr-fallback\"><pre>LogisticRegression(max_iter=1000, random_state=0)</pre><b>In a Jupyter environment, please rerun this cell to show the HTML representation or trust the notebook. <br />On GitHub, the HTML representation is unable to render, please try loading this page with nbviewer.org.</b></div><div class=\"sk-container\" hidden><div class=\"sk-item\"><div class=\"sk-estimator sk-toggleable\"><input class=\"sk-toggleable__control sk-hidden--visually\" id=\"sk-estimator-id-1\" type=\"checkbox\" checked><label for=\"sk-estimator-id-1\" class=\"sk-toggleable__label sk-toggleable__label-arrow\">LogisticRegression</label><div class=\"sk-toggleable__content\"><pre>LogisticRegression(max_iter=1000, random_state=0)</pre></div></div></div></div></div>"
      ],
      "text/plain": [
       "LogisticRegression(max_iter=1000, random_state=0)"
      ]
     },
     "execution_count": 10,
     "metadata": {},
     "output_type": "execute_result"
    }
   ],
   "source": [
    "covid_single_view"
   ]
  },
  {
   "cell_type": "markdown",
   "metadata": {},
   "source": [
    "### Launch the PathIntegrate network viewer app"
   ]
  },
  {
   "cell_type": "code",
   "execution_count": null,
   "metadata": {},
   "outputs": [],
   "source": [
    "pathintegrate.launch_network_app(covid_single_view, mo_paths)"
   ]
  }
 ],
 "metadata": {
  "kernelspec": {
   "display_name": "py10",
   "language": "python",
   "name": "python3"
  },
  "language_info": {
   "codemirror_mode": {
    "name": "ipython",
    "version": 3
   },
   "file_extension": ".py",
   "mimetype": "text/x-python",
   "name": "python",
   "nbconvert_exporter": "python",
   "pygments_lexer": "ipython3",
   "version": "3.10.8"
  },
  "orig_nbformat": 4
 },
 "nbformat": 4,
 "nbformat_minor": 2
}
